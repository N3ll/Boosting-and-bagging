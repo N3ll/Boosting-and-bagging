{
 "cells": [
  {
   "cell_type": "code",
   "execution_count": 273,
   "metadata": {},
   "outputs": [],
   "source": [
    "import numpy as np\n",
    "import pandas as pd\n",
    "\n",
    "from sklearn import tree\n",
    "from sklearn.tree import DecisionTreeClassifier\n",
    "from sklearn.ensemble import BaggingClassifier\n",
    "from sklearn.ensemble import AdaBoostClassifier\n",
    "\n",
    "from sklearn.model_selection import train_test_split\n",
    "from sklearn.metrics import mean_squared_error as MSE\n",
    "from sklearn.metrics import mean_absolute_error as MAE\n",
    "from sklearn.metrics import confusion_matrix\n",
    "from sklearn.metrics import classification_report\n",
    "from sklearn.metrics import accuracy_score\n",
    "\n",
    "import StringIO\n",
    "import graphviz\n",
    "import pydotplus"
   ]
  },
  {
   "cell_type": "code",
   "execution_count": 274,
   "metadata": {},
   "outputs": [
    {
     "data": {
      "text/plain": [
       "bad loss     123\n",
       "good risk    123\n",
       "Name: risk, dtype: int64"
      ]
     },
     "execution_count": 274,
     "metadata": {},
     "output_type": "execute_result"
    }
   ],
   "source": [
    "df_risk = pd.read_csv('ClassifyRisk', usecols=['age','marital_status','income','risk'])\n",
    "df_risk['risk'].value_counts()"
   ]
  },
  {
   "cell_type": "code",
   "execution_count": 275,
   "metadata": {},
   "outputs": [
    {
     "data": {
      "text/html": [
       "<div>\n",
       "<style scoped>\n",
       "    .dataframe tbody tr th:only-of-type {\n",
       "        vertical-align: middle;\n",
       "    }\n",
       "\n",
       "    .dataframe tbody tr th {\n",
       "        vertical-align: top;\n",
       "    }\n",
       "\n",
       "    .dataframe thead th {\n",
       "        text-align: right;\n",
       "    }\n",
       "</style>\n",
       "<table border=\"1\" class=\"dataframe\">\n",
       "  <thead>\n",
       "    <tr style=\"text-align: right;\">\n",
       "      <th></th>\n",
       "      <th>age</th>\n",
       "      <th>income</th>\n",
       "      <th>risk</th>\n",
       "      <th>marital_status_married</th>\n",
       "      <th>marital_status_other</th>\n",
       "      <th>marital_status_single</th>\n",
       "    </tr>\n",
       "  </thead>\n",
       "  <tbody>\n",
       "    <tr>\n",
       "      <th>0</th>\n",
       "      <td>34</td>\n",
       "      <td>28060.70</td>\n",
       "      <td>bad loss</td>\n",
       "      <td>0</td>\n",
       "      <td>1</td>\n",
       "      <td>0</td>\n",
       "    </tr>\n",
       "    <tr>\n",
       "      <th>1</th>\n",
       "      <td>37</td>\n",
       "      <td>28009.34</td>\n",
       "      <td>bad loss</td>\n",
       "      <td>0</td>\n",
       "      <td>1</td>\n",
       "      <td>0</td>\n",
       "    </tr>\n",
       "    <tr>\n",
       "      <th>2</th>\n",
       "      <td>29</td>\n",
       "      <td>27614.60</td>\n",
       "      <td>bad loss</td>\n",
       "      <td>0</td>\n",
       "      <td>1</td>\n",
       "      <td>0</td>\n",
       "    </tr>\n",
       "    <tr>\n",
       "      <th>3</th>\n",
       "      <td>33</td>\n",
       "      <td>27287.18</td>\n",
       "      <td>bad loss</td>\n",
       "      <td>0</td>\n",
       "      <td>1</td>\n",
       "      <td>0</td>\n",
       "    </tr>\n",
       "    <tr>\n",
       "      <th>4</th>\n",
       "      <td>39</td>\n",
       "      <td>26954.06</td>\n",
       "      <td>bad loss</td>\n",
       "      <td>0</td>\n",
       "      <td>1</td>\n",
       "      <td>0</td>\n",
       "    </tr>\n",
       "  </tbody>\n",
       "</table>\n",
       "</div>"
      ],
      "text/plain": [
       "   age    income      risk  marital_status_married  marital_status_other  \\\n",
       "0   34  28060.70  bad loss                       0                     1   \n",
       "1   37  28009.34  bad loss                       0                     1   \n",
       "2   29  27614.60  bad loss                       0                     1   \n",
       "3   33  27287.18  bad loss                       0                     1   \n",
       "4   39  26954.06  bad loss                       0                     1   \n",
       "\n",
       "   marital_status_single  \n",
       "0                      0  \n",
       "1                      0  \n",
       "2                      0  \n",
       "3                      0  \n",
       "4                      0  "
      ]
     },
     "execution_count": 275,
     "metadata": {},
     "output_type": "execute_result"
    }
   ],
   "source": [
    "df_risk = pd.get_dummies(df_risk,columns=['marital_status'],prefix=['marital_status'])\n",
    "df_risk.head()"
   ]
  },
  {
   "cell_type": "code",
   "execution_count": 276,
   "metadata": {},
   "outputs": [],
   "source": [
    "#split dataset\n",
    "X = df_risk[['age','income','marital_status_married','marital_status_other','marital_status_single']]\n",
    "y = df_risk[['risk']]\n",
    "X_train, X_test, y_train, y_test = train_test_split(X, y, random_state=0, test_size=0.3)"
   ]
  },
  {
   "cell_type": "code",
   "execution_count": 286,
   "metadata": {},
   "outputs": [],
   "source": [
    "#Tree classifier\n",
    "clf_CART = DecisionTreeClassifier(criterion='gini')\n",
    "clf_CART.fit(X_train, y_train.values.ravel())\n",
    "y_pred_CART = clf_CART.predict(X_test)"
   ]
  },
  {
   "cell_type": "code",
   "execution_count": 278,
   "metadata": {},
   "outputs": [],
   "source": [
    "#Bagging\n",
    "bag = BaggingClassifier(n_estimators=5)\n",
    "bag.fit(X_train, y_train.values.ravel())\n",
    "y_pred_bag = bag.predict(X_test)"
   ]
  },
  {
   "cell_type": "code",
   "execution_count": 279,
   "metadata": {},
   "outputs": [],
   "source": [
    "#Boosting\n",
    "ada = AdaBoostClassifier(n_estimators=5)\n",
    "ada.fit(X_train, y_train.values.ravel())\n",
    "y_pred_ada = ada.predict(X_test)"
   ]
  },
  {
   "cell_type": "code",
   "execution_count": 280,
   "metadata": {},
   "outputs": [
    {
     "name": "stdout",
     "output_type": "stream",
     "text": [
      "Confusin matrix for CART decision tree\n",
      "[[33  2]\n",
      " [ 4 35]]\n",
      "\n",
      "\n",
      "Confusin matrix for Bagging classifier\n",
      "[[34  1]\n",
      " [ 5 34]]\n",
      "\n",
      "\n",
      "Confusin matrix for AdaBoost classifier\n",
      "[[31  4]\n",
      " [ 3 36]]\n",
      "\n",
      "\n"
     ]
    }
   ],
   "source": [
    "#Comparison with confusion matrices\n",
    "print ('Confusin matrix for CART decision tree')\n",
    "print confusion_matrix(y_test, y_pred_CART)\n",
    "print('\\n')\n",
    "print ('Confusin matrix for Bagging classifier')\n",
    "print confusion_matrix(y_test, y_pred_bag)\n",
    "print('\\n')\n",
    "print ('Confusin matrix for AdaBoost classifier')\n",
    "print confusion_matrix(y_test, y_pred_ada)\n",
    "print('\\n')"
   ]
  },
  {
   "cell_type": "code",
   "execution_count": 281,
   "metadata": {},
   "outputs": [
    {
     "name": "stdout",
     "output_type": "stream",
     "text": [
      "Classification report for CART decision tree\n",
      "              precision    recall  f1-score   support\n",
      "\n",
      "    bad loss       0.89      0.94      0.92        35\n",
      "   good risk       0.95      0.90      0.92        39\n",
      "\n",
      "   micro avg       0.92      0.92      0.92        74\n",
      "   macro avg       0.92      0.92      0.92        74\n",
      "weighted avg       0.92      0.92      0.92        74\n",
      "\n",
      "\n",
      "\n",
      "Classification report for Bagging classifier\n",
      "              precision    recall  f1-score   support\n",
      "\n",
      "    bad loss       0.87      0.97      0.92        35\n",
      "   good risk       0.97      0.87      0.92        39\n",
      "\n",
      "   micro avg       0.92      0.92      0.92        74\n",
      "   macro avg       0.92      0.92      0.92        74\n",
      "weighted avg       0.92      0.92      0.92        74\n",
      "\n",
      "\n",
      "\n",
      "Classification report for AdaBoost classifier\n",
      "              precision    recall  f1-score   support\n",
      "\n",
      "    bad loss       0.91      0.89      0.90        35\n",
      "   good risk       0.90      0.92      0.91        39\n",
      "\n",
      "   micro avg       0.91      0.91      0.91        74\n",
      "   macro avg       0.91      0.90      0.90        74\n",
      "weighted avg       0.91      0.91      0.91        74\n",
      "\n",
      "\n",
      "\n"
     ]
    }
   ],
   "source": [
    "#Comparison of the errors of the classifier\n",
    "print ('Classification report for CART decision tree')\n",
    "print classification_report(y_test,y_pred_CART)\n",
    "print('\\n')\n",
    "print ('Classification report for Bagging classifier')\n",
    "print classification_report(y_test,y_pred_bag)\n",
    "print('\\n')\n",
    "print ('Classification report for AdaBoost classifier')\n",
    "print classification_report(y_test,y_pred_ada)\n",
    "print('\\n')"
   ]
  },
  {
   "cell_type": "code",
   "execution_count": 282,
   "metadata": {},
   "outputs": [
    {
     "name": "stdout",
     "output_type": "stream",
     "text": [
      "CART overall error rate: 0.08108\n",
      "Bagging overall error rate: 0.08108\n",
      "Adaboost overall error rate: 0.09459\n",
      "\n",
      "\n"
     ]
    }
   ],
   "source": [
    "#Overall error rate, MSE, MAE\n",
    "print ('CART overall error rate: {:.5f}'.format(1-accuracy_score(y_test,y_pred_CART)))\n",
    "print ('Bagging overall error rate: {:.5f}'.format(1-accuracy_score(y_test,y_pred_bag)))\n",
    "print ('Adaboost overall error rate: {:.5f}'.format(1-accuracy_score(y_test,y_pred_ada)))\n",
    "print('\\n')\n",
    "labels = y_test['risk'].astype('category').cat.categories.tolist()\n",
    "replace_map = {'risk':{ k: v for k,v in zip(labels,list(range(0,len(labels)+1)))}}\n",
    "y_test.replace(replace_map, inplace=True)\n",
    "\n",
    "y_pred_CART = [0 if i=='bad loss' else 1 for i in y_pred_CART]\n",
    "y_pred_bag = [0 if i=='bad loss' else 1 for i in y_pred_bag]\n",
    "y_pred_ada = [0 if i=='bad loss' else 1 for i in y_pred_ada]"
   ]
  },
  {
   "cell_type": "code",
   "execution_count": 283,
   "metadata": {},
   "outputs": [
    {
     "name": "stdout",
     "output_type": "stream",
     "text": [
      "CART MSE: 0.08108\n",
      "CART MSE: 0.08108\n",
      "CART MSE: 0.09459\n",
      "\n",
      "\n",
      "CART MAE: 0.08108\n",
      "CART MAE: 0.08108\n",
      "CART MAE: 0.09459\n"
     ]
    }
   ],
   "source": [
    "#Overall error rate, MSE, MAE\n",
    "print('CART MSE: {:.5f}'.format(MSE(y_test,y_pred_CART)))\n",
    "print('CART MSE: {:.5f}'.format(MSE(y_test,y_pred_bag)))\n",
    "print('CART MSE: {:.5f}'.format(MSE(y_test,y_pred_ada)))\n",
    "print('\\n')\n",
    "print('CART MAE: {:.5f}'.format(MAE(y_test,y_pred_CART)))\n",
    "print('CART MAE: {:.5f}'.format(MAE(y_test,y_pred_bag)))\n",
    "print('CART MAE: {:.5f}'.format(MAE(y_test,y_pred_ada)))"
   ]
  },
  {
   "cell_type": "code",
   "execution_count": 284,
   "metadata": {},
   "outputs": [
    {
     "data": {
      "text/plain": [
       "True"
      ]
     },
     "execution_count": 284,
     "metadata": {},
     "output_type": "execute_result"
    }
   ],
   "source": [
    "dot_data = StringIO.StringIO()\n",
    "tree.export_graphviz(clf_CART, out_file=dot_data,feature_names=X_train.columns.values,filled=True,class_names=clf_CART.classes_,rounded=True,special_characters=True)\n",
    "graph = pydotplus.graph_from_dot_data(dot_data.getvalue()) \n",
    "graph.write_png(\"56_Book_tree_CART.png\") "
   ]
  }
 ],
 "metadata": {
  "kernelspec": {
   "display_name": "Python 2",
   "language": "python",
   "name": "python2"
  },
  "language_info": {
   "codemirror_mode": {
    "name": "ipython",
    "version": 2
   },
   "file_extension": ".py",
   "mimetype": "text/x-python",
   "name": "python",
   "nbconvert_exporter": "python",
   "pygments_lexer": "ipython2",
   "version": "2.7.15"
  }
 },
 "nbformat": 4,
 "nbformat_minor": 2
}
